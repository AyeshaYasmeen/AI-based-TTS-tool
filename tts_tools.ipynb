{
 "cells": [
  {
   "cell_type": "code",
   "execution_count": null,
   "id": "c54543d3",
   "metadata": {},
   "outputs": [],
   "source": [
    "from TTS.api import TTS\n",
    "import os\n",
    "\n",
    "# Load the TTS model\n",
    "def load_model(model_name=\"tts_models/en/ljspeech/tacotron2-DDC\"):\n",
    "    tts = TTS(model_name=model_name)\n",
    "    return tts\n",
    "\n",
    "# Generate speech\n",
    "def generate_speech(tts, text, output_file=\"output.wav\"):\n",
    "    tts.tts_to_file(text=text, file_path=output_file)\n",
    "    return output_file\n",
    "\n",
    "# Play the audio\n",
    "def play_audio(file_path):\n",
    "    from pydub import AudioSegment\n",
    "    from pydub.playback import play\n",
    "    audio = AudioSegment.from_file(file_path)\n",
    "    play(audio)\n",
    "\n",
    "# User Interface\n",
    "def main():\n",
    "    models = {\n",
    "        \"en\": \"tts_models/en/ljspeech/tacotron2-DDC\",\n",
    "        \"fr\": \"tts_models/fr/mai/tacotron2-DDC\"\n",
    "    }\n",
    "    \n",
    "    text = input(\"Enter the text to convert: \")\n",
    "    language = input(\"Choose a language (en/fr): \")\n",
    "    \n",
    "    if language not in models:\n",
    "        print(\"Unsupported language.\")\n",
    "        return\n",
    "    \n",
    "    tts = load_model(models[language])\n",
    "    output_file = generate_speech(tts, text)\n",
    "    \n",
    "    print(\"Playing the audio...\")\n",
    "    play_audio(output_file)\n",
    "    os.remove(output_file)\n",
    "\n",
    "main()\n"
   ]
  }
 ],
 "metadata": {
  "kernelspec": {
   "display_name": "Python 3 (ipykernel)",
   "language": "python",
   "name": "python3"
  },
  "language_info": {
   "codemirror_mode": {
    "name": "ipython",
    "version": 3
   },
   "file_extension": ".py",
   "mimetype": "text/x-python",
   "name": "python",
   "nbconvert_exporter": "python",
   "pygments_lexer": "ipython3",
   "version": "3.9.4"
  }
 },
 "nbformat": 4,
 "nbformat_minor": 5
}
